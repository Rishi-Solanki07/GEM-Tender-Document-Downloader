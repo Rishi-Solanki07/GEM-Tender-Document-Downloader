{
 "cells": [
  {
   "cell_type": "code",
   "execution_count": 1,
   "id": "f52b2faf",
   "metadata": {},
   "outputs": [
    {
     "name": "stdout",
     "output_type": "stream",
     "text": [
      "1.24.3\n",
      "1.5.3\n"
     ]
    }
   ],
   "source": [
    "import numpy as np\n",
    "import pandas as pd\n",
    "\n",
    "print(np.__version__)  # 1.24.3\n",
    "print(pd.__version__)  # 1.5.3"
   ]
  },
  {
   "cell_type": "code",
   "execution_count": 2,
   "id": "29026044",
   "metadata": {},
   "outputs": [],
   "source": [
    "import tkinter as tk\n",
    "from tkinter import ttk\n",
    "import pandas as pd"
   ]
  },
  {
   "cell_type": "code",
   "execution_count": 3,
   "id": "58424396",
   "metadata": {},
   "outputs": [],
   "source": [
    "# Sample DataFrame for testing\n",
    "rdf = pd.DataFrame({\n",
    "    'Reference ID': [f'ID_{i}' for i in range(1, 51)],\n",
    "    'Status': ['Processed' if i % 2 == 0 else 'Pending' for i in range(1, 51)],\n",
    "    'Date': pd.date_range(start='2024-01-01', periods=50, freq='D')\n",
    "})\n",
    "\n",
    "# Function to handle button click\n",
    "def on_submit():\n",
    "    input_text = entry.get()\n",
    "    ref_ids = [x.strip() for x in input_text.split(',') if x.strip()]\n",
    "    \n",
    "    if ref_ids:\n",
    "        result_df = rdf[rdf['Reference ID'].isin(ref_ids)]\n",
    "    else:\n",
    "        result_df = rdf.head(25)  # default show 25 rows\n",
    "\n",
    "    # Clear the tree\n",
    "    for i in tree.get_children():\n",
    "        tree.delete(i)\n",
    "\n",
    "    # Insert new data\n",
    "    for index, row in result_df.iterrows():\n",
    "        tree.insert(\"\", \"end\", values=list(row))\n",
    "\n",
    "# Create main window\n",
    "root = tk.Tk()\n",
    "root.title(\"Reference ID Checker\")\n",
    "root.configure(bg='light gray')\n",
    "root.geometry(\"700x500\")\n",
    "\n",
    "# Input label and entry\n",
    "label = tk.Label(root, text=\"Paste your reference IDs (comma-separated):\", bg='light gray', fg='black')\n",
    "label.pack(pady=(10, 2))\n",
    "\n",
    "entry = tk.Entry(root, width=80)\n",
    "entry.pack(pady=(0, 10))\n",
    "\n",
    "# Submit button\n",
    "button = tk.Button(root, text=\"Click Here\", command=on_submit, bg='gray', fg='white')\n",
    "button.pack(pady=(0, 20))\n",
    "\n",
    "# Frame for result table with scrollbar\n",
    "frame = tk.Frame(root)\n",
    "frame.pack(fill='both', expand=True)\n",
    "\n",
    "# Scrollbar\n",
    "scrollbar = tk.Scrollbar(frame)\n",
    "scrollbar.pack(side='right', fill='y')\n",
    "\n",
    "# Treeview widget (for showing DataFrame)\n",
    "tree = ttk.Treeview(frame, yscrollcommand=scrollbar.set, columns=list(rdf.columns), show='headings')\n",
    "\n",
    "for col in rdf.columns:\n",
    "    tree.heading(col, text=col)\n",
    "    tree.column(col, anchor='center')\n",
    "\n",
    "tree.pack(fill='both', expand=True)\n",
    "scrollbar.config(command=tree.yview)\n",
    "\n",
    "# Run the GUI\n",
    "root.mainloop()"
   ]
  },
  {
   "cell_type": "code",
   "execution_count": null,
   "id": "99bded0a",
   "metadata": {},
   "outputs": [],
   "source": []
  },
  {
   "cell_type": "code",
   "execution_count": null,
   "id": "926aecb2",
   "metadata": {},
   "outputs": [],
   "source": []
  }
 ],
 "metadata": {
  "kernelspec": {
   "display_name": "Python (ds_env)",
   "language": "python",
   "name": "ds_env"
  },
  "language_info": {
   "codemirror_mode": {
    "name": "ipython",
    "version": 3
   },
   "file_extension": ".py",
   "mimetype": "text/x-python",
   "name": "python",
   "nbconvert_exporter": "python",
   "pygments_lexer": "ipython3",
   "version": "3.11.11"
  }
 },
 "nbformat": 4,
 "nbformat_minor": 5
}
